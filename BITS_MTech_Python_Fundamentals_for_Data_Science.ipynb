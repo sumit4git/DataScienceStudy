{
  "nbformat": 4,
  "nbformat_minor": 0,
  "metadata": {
    "colab": {
      "name": "BITS MTech Python Fundamentals for Data Science.ipynb",
      "provenance": [],
      "authorship_tag": "ABX9TyMBsdilPCKKZP67EFQXHztK",
      "include_colab_link": true
    },
    "kernelspec": {
      "name": "python3",
      "display_name": "Python 3"
    },
    "language_info": {
      "name": "python"
    }
  },
  "cells": [
    {
      "cell_type": "markdown",
      "metadata": {
        "id": "view-in-github",
        "colab_type": "text"
      },
      "source": [
        "<a href=\"https://colab.research.google.com/github/sumit4git/DataScienceStudy/blob/main/BITS_MTech_Python_Fundamentals_for_Data_Science.ipynb\" target=\"_parent\"><img src=\"https://colab.research.google.com/assets/colab-badge.svg\" alt=\"Open In Colab\"/></a>"
      ]
    },
    {
      "cell_type": "markdown",
      "metadata": {
        "id": "z2Y_4YrZLuVn"
      },
      "source": [
        "1. Given a number, find the sum of its digits. Take the number as an input from the user."
      ]
    },
    {
      "cell_type": "code",
      "metadata": {
        "colab": {
          "base_uri": "https://localhost:8080/"
        },
        "id": "BXJ7cEv_LwTZ",
        "outputId": "94f5f997-853b-4251-ca94-3a6ab40fcc2c"
      },
      "source": [
        "n = int(input(\"Enter number:\"))\n",
        "sum = 0;\n",
        "while n > 1:\n",
        "  sum += n%10\n",
        "  n=n//10\n",
        "print(sum)"
      ],
      "execution_count": 12,
      "outputs": [
        {
          "output_type": "stream",
          "text": [
            "Enter number:789\n",
            "24\n"
          ],
          "name": "stdout"
        }
      ]
    },
    {
      "cell_type": "code",
      "metadata": {
        "colab": {
          "base_uri": "https://localhost:8080/"
        },
        "id": "tzsxWESBP4_L",
        "outputId": "a1f2366a-124e-43cb-c4d1-a7d9cf4858f4"
      },
      "source": [
        "def sumOfDigits(n):\n",
        "  if n==0:\n",
        "    return 0\n",
        "  else:\n",
        "    return n%10 + sumOfDigits(n//10)\n",
        "  \n",
        "sumOfDigits(789)"
      ],
      "execution_count": 14,
      "outputs": [
        {
          "output_type": "execute_result",
          "data": {
            "text/plain": [
              "24"
            ]
          },
          "metadata": {
            "tags": []
          },
          "execution_count": 14
        }
      ]
    },
    {
      "cell_type": "markdown",
      "metadata": {
        "id": "FUyToDOdR2S-"
      },
      "source": [
        "2. Given a number, check whether the given number is an Armstrong number or not. A positive integer is called an Armstrong number of order n if:\n",
        "\n",
        "abcd... = an + bn + cn + dn + ...\n",
        "\n",
        "Example: 153 = 1*1*1 + 5*5*5 + 3*3*3 \n",
        "\n",
        "153 is an Armstrong number of order 3.\n",
        "\n",
        "Inputs from the user will be number and order n."
      ]
    },
    {
      "cell_type": "code",
      "metadata": {
        "id": "EepSHbW3SxqE"
      },
      "source": [
        ""
      ],
      "execution_count": null,
      "outputs": []
    }
  ]
}