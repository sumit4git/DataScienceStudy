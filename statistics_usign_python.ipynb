{
  "nbformat": 4,
  "nbformat_minor": 0,
  "metadata": {
    "colab": {
      "name": "Untitled0.ipynb",
      "provenance": [],
      "authorship_tag": "ABX9TyPIY76Hn3Agtky3NcOlMMcN",
      "include_colab_link": true
    },
    "kernelspec": {
      "name": "python3",
      "display_name": "Python 3"
    },
    "language_info": {
      "name": "python"
    }
  },
  "cells": [
    {
      "cell_type": "markdown",
      "metadata": {
        "id": "view-in-github",
        "colab_type": "text"
      },
      "source": [
        "<a href=\"https://colab.research.google.com/github/sumit4git/DataScienceStudy/blob/main/statistics_usign_python.ipynb\" target=\"_parent\"><img src=\"https://colab.research.google.com/assets/colab-badge.svg\" alt=\"Open In Colab\"/></a>"
      ]
    },
    {
      "cell_type": "markdown",
      "metadata": {
        "id": "-Tm23jgNFoXC"
      },
      "source": [
        "Basic statictics"
      ]
    },
    {
      "cell_type": "code",
      "metadata": {
        "colab": {
          "base_uri": "https://localhost:8080/"
        },
        "id": "ZLI8BGd1Fzkk",
        "outputId": "9841e17d-9115-4266-d707-be170f357cc1"
      },
      "source": [
        "import numpy as np\n",
        "from scipy import stats\n",
        "data = np.array([4,5,1,2,7,2,6,9,3]) \n",
        "print(np.mean(data))\n",
        "print(np.median(data))\n",
        "print(stats.mode(data)[0])"
      ],
      "execution_count": null,
      "outputs": [
        {
          "output_type": "stream",
          "text": [
            "4.333333333333333\n",
            "4.0\n",
            "[2]\n"
          ],
          "name": "stdout"
        }
      ]
    }
  ]
}